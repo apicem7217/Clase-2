{
  "nbformat": 4,
  "nbformat_minor": 0,
  "metadata": {
    "colab": {
      "provenance": [],
      "authorship_tag": "ABX9TyMsZndTObg28iQPTU+qV83B",
      "include_colab_link": true
    },
    "kernelspec": {
      "name": "python3",
      "display_name": "Python 3"
    },
    "language_info": {
      "name": "python"
    }
  },
  "cells": [
    {
      "cell_type": "markdown",
      "metadata": {
        "id": "view-in-github",
        "colab_type": "text"
      },
      "source": [
        "<a href=\"https://colab.research.google.com/github/apicem7217/Clase-2/blob/Phyton/fucioncirculo.ipynb\" target=\"_parent\"><img src=\"https://colab.research.google.com/assets/colab-badge.svg\" alt=\"Open In Colab\"/></a>"
      ]
    },
    {
      "cell_type": "code",
      "execution_count": null,
      "metadata": {
        "id": "2o5S8Yq_KV7I"
      },
      "outputs": [],
      "source": []
    },
    {
      "cell_type": "markdown",
      "source": [
        "Círculo"
      ],
      "metadata": {
        "id": "VCVwS7hRKYG5"
      }
    },
    {
      "cell_type": "code",
      "source": [
        "# Actividad 2\n",
        "# Area y perímetro de un círculo\n",
        "# Crear función usamos la palabra def\n",
        "\n",
        "def mi_primer_funcion1():\n",
        "  print(\"hola, estoy dentro de la funcion\")\n",
        "mi_primer_funcion1()"
      ],
      "metadata": {
        "colab": {
          "base_uri": "https://localhost:8080/"
        },
        "id": "ogD8JVkxKZ1B",
        "outputId": "276c90e7-ef1b-423c-8f09-81d8b993a220"
      },
      "execution_count": 5,
      "outputs": [
        {
          "output_type": "stream",
          "name": "stdout",
          "text": [
            "hola, estoy dentro de la funcion\n"
          ]
        }
      ]
    },
    {
      "cell_type": "code",
      "source": [],
      "metadata": {
        "id": "fSYMQjApM8w7"
      },
      "execution_count": null,
      "outputs": []
    },
    {
      "cell_type": "code",
      "source": [
        "mi_primer_funcion()"
      ],
      "metadata": {
        "colab": {
          "base_uri": "https://localhost:8080/"
        },
        "id": "AGhhkAD3M8zo",
        "outputId": "87286792-f422-411b-c038-16943f893c80"
      },
      "execution_count": 3,
      "outputs": [
        {
          "output_type": "stream",
          "name": "stdout",
          "text": [
            "hola, estoy dentro de la funcion\n"
          ]
        }
      ]
    },
    {
      "cell_type": "code",
      "source": [],
      "metadata": {
        "id": "Q6X0i0rUPYk-"
      },
      "execution_count": null,
      "outputs": []
    }
  ]
}