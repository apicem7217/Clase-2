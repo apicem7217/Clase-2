{
  "nbformat": 4,
  "nbformat_minor": 0,
  "metadata": {
    "colab": {
      "provenance": [],
      "authorship_tag": "ABX9TyOvABLgVkp+IWXe8zEoK8wW",
      "include_colab_link": true
    },
    "kernelspec": {
      "name": "python3",
      "display_name": "Python 3"
    },
    "language_info": {
      "name": "python"
    }
  },
  "cells": [
    {
      "cell_type": "markdown",
      "metadata": {
        "id": "view-in-github",
        "colab_type": "text"
      },
      "source": [
        "<a href=\"https://colab.research.google.com/github/apicem7217/Clase-2/blob/Phyton/CIRCULO.ipynb\" target=\"_parent\"><img src=\"https://colab.research.google.com/assets/colab-badge.svg\" alt=\"Open In Colab\"/></a>"
      ]
    },
    {
      "cell_type": "code",
      "execution_count": null,
      "metadata": {
        "id": "V-EDuHSdC80S"
      },
      "outputs": [],
      "source": []
    },
    {
      "cell_type": "markdown",
      "source": [
        "Area de círculo y perímetro"
      ],
      "metadata": {
        "id": "j4xFt9qgDXJq"
      }
    },
    {
      "cell_type": "code",
      "source": [],
      "metadata": {
        "id": "IIfTwXqiDhQG"
      },
      "execution_count": null,
      "outputs": []
    },
    {
      "cell_type": "code",
      "source": [
        "# Demo de un paso a paso\n",
        "# Los pasos del algorito son\n",
        "# 1- Solicitar el radio del círculo\n",
        "# 2- Convertir la varibale en float (número con decimales)\n",
        "# 3- Declara pi (3.141516)\n",
        "# 4- Aplicar la fórmula e imprimir el resultado\n",
        "# 5- Aplicar la fórmula del perimétro e imprimir el resultado\n",
        "\n",
        "r= float(input(\"introducir el valor del radio:  \"))\n",
        "pi = 3.141516\n",
        "\n",
        "area = pi * r **2\n",
        "print (\"El área del círculo es :\", area)\n",
        "\n",
        "perimetro = pi * r * 2\n",
        "print (\"El perímetro del círculo es :\", perimetro)\n",
        "print (\"Considerando un radio de: \",r)\n"
      ],
      "metadata": {
        "colab": {
          "base_uri": "https://localhost:8080/"
        },
        "id": "T24FYvrsDhSo",
        "outputId": "dde75cb6-139e-4b5b-deb6-affaabd85013"
      },
      "execution_count": 5,
      "outputs": [
        {
          "output_type": "stream",
          "name": "stdout",
          "text": [
            "introducir el valor del radio:  2\n",
            "El área del círculo es : 12.566064\n",
            "El perímetro del círculo es : 12.566064\n",
            "Considerando un radio de:  2.0\n"
          ]
        }
      ]
    }
  ]
}